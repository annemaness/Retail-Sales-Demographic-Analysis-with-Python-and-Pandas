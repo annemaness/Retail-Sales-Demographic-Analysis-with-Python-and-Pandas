{
 "cells": [
  {
   "cell_type": "markdown",
   "id": "a279c454",
   "metadata": {},
   "source": [
    "# Final Project\n",
    "\n",
    "Ok, so today we'll be working with the transactions, product, and hh_demographic tables in the project_data folder.\n",
    "\n",
    "* First, read in the transactions data.\n",
    "\n",
    "* Read in the only columns `household_key`, `BASKET_ID`, `DAY`, `PRODUCT_ID`, `QUANTITY`, and `SALES_VALUE`.\n",
    "\n",
    "* Convert `DAY`, `QUANTITY`, and `PRODUCT_ID` to the smallest appropriate integer types.\n"
   ]
  },
  {
   "cell_type": "code",
   "execution_count": null,
   "id": "e57f5a81",
   "metadata": {},
   "outputs": [],
   "source": [
    "import pandas as pd\n",
    "import numpy as np\n",
    "import matplotlib.pyplot as plt\n",
    "from pandas.plotting import table"
   ]
  },
  {
   "cell_type": "code",
   "execution_count": null,
   "id": "c6fa5da7",
   "metadata": {},
   "outputs": [],
   "source": [
    "path = \"../project_data/project_transactions.csv\""
   ]
  },
  {
   "cell_type": "code",
   "execution_count": null,
   "id": "20d7e7ad",
   "metadata": {},
   "outputs": [],
   "source": [
    "cols = [\"household_key\", \"BASKET_ID\", \"DAY\", \"PRODUCT_ID\", \"QUANTITY\", \"SALES_VALUE\"]"
   ]
  },
  {
   "cell_type": "code",
   "execution_count": null,
   "id": "bfabc1e5-d00d-4c98-8e40-2c0e67aef10c",
   "metadata": {},
   "outputs": [],
   "source": [
    "transactions.describe().round()"
   ]
  },
  {
   "cell_type": "code",
   "execution_count": null,
   "id": "39ba8e83-e949-4204-9033-0f7435dc1cc3",
   "metadata": {},
   "outputs": [],
   "source": [
    "transactions.info(memory_usage=\"deep\")"
   ]
  },
  {
   "cell_type": "code",
   "execution_count": null,
   "id": "6f0f87d1",
   "metadata": {},
   "outputs": [],
   "source": [
    "# specify datatypes to convert\n",
    "dtypes = {\"DAY\": \"Int16\", \"QUANTITY\": \"Int32\", \"PRODUCT_ID\": \"Int32\"}\n",
    "\n",
    "transactions = pd.read_csv(path,\n",
    "                           dtype=dtypes,\n",
    "                           usecols=cols\n",
    "                          )"
   ]
  },
  {
   "cell_type": "code",
   "execution_count": null,
   "id": "479e6ba9-476d-49f1-9536-9b2368e32feb",
   "metadata": {},
   "outputs": [],
   "source": [
    "transactions.info(memory_usage=\"deep\")"
   ]
  },
  {
   "cell_type": "code",
   "execution_count": null,
   "id": "8c90a284",
   "metadata": {},
   "outputs": [],
   "source": [
    "# Use the following snippet to create a Date Column.\n",
    "\n",
    "transactions = (\n",
    "    transactions\n",
    "    .assign(date = (pd.to_datetime(\"2016\", format='%Y') \n",
    "                    + pd.to_timedelta(transactions[\"DAY\"].sub(1).astype(str) + \" days\"))\n",
    "           )\n",
    "    .drop([\"DAY\"], axis=1)\n",
    ")"
   ]
  },
  {
   "cell_type": "markdown",
   "id": "64d2e67d",
   "metadata": {},
   "source": [
    "## TIME BASED ANALYSIS\n",
    "\n",
    "* Plot the sum of sales by month. Are sales growing over time?\n",
    "* Next, plot the same series after filtering down to dates April 2016 and October 2017.\n",
    "* Then, plot the sum of monthly sales in 2016 vs the monthly sales 2017.\n",
    "* Finally, plot total sales by day of week."
   ]
  },
  {
   "cell_type": "code",
   "execution_count": null,
   "id": "c6752a01-2923-49e9-b58e-dd24e4540186",
   "metadata": {},
   "outputs": [],
   "source": [
    "import matplotlib.pyplot as plt\n",
    "transactions.head()"
   ]
  },
  {
   "cell_type": "code",
   "execution_count": null,
   "id": "8a68946a",
   "metadata": {},
   "outputs": [],
   "source": [
    "(transactions.set_index(\"date\")\n",
    " .loc[:, \"SALES_VALUE\"]\n",
    " .resample(\"ME\") #resample \n",
    " .sum()\n",
    " .plot())"
   ]
  },
  {
   "cell_type": "code",
   "execution_count": null,
   "id": "d4253d37",
   "metadata": {},
   "outputs": [],
   "source": [
    "#plot the same series after filtering down to dates April 2016 and October 2017\n",
    "(transactions\n",
    " .set_index(\"date\")\n",
    " .sort_index()\n",
    " .loc[\"2016-04\":\"2017-10\", \"SALES_VALUE\"]\n",
    " .resample(\"ME\")\n",
    " .sum()\n",
    " .plot())"
   ]
  },
  {
   "cell_type": "code",
   "execution_count": null,
   "id": "5ddf6a6a",
   "metadata": {},
   "outputs": [],
   "source": [
    "#plot the sum of monthly sales in 2016 vs the monthly sales 2017\n",
    "(transactions\n",
    " .set_index(\"date\")\n",
    " .loc[:, [\"SALES_VALUE\"]]\n",
    " .resample(\"ME\")\n",
    " .sum()\n",
    " .assign(year_prior = lambda x: x[\"SALES_VALUE\"].shift(12))\n",
    " .loc[\"2017\"]\n",
    " .plot()\n",
    ")"
   ]
  },
  {
   "cell_type": "code",
   "execution_count": null,
   "id": "cdfe4610",
   "metadata": {},
   "outputs": [],
   "source": [
    "#plot total sales by day of week\n",
    "(transactions\n",
    " .groupby(transactions[\"date\"].dt.dayofweek)\n",
    " .agg({\"SALES_VALUE\": \"sum\"})\n",
    " .plot.bar()\n",
    ")\n"
   ]
  },
  {
   "cell_type": "markdown",
   "id": "2a96c4a4",
   "metadata": {},
   "source": [
    "# DEMOGRAPHICS\n",
    "\n",
    "* Read in the `hh_demographic.csv` file, but only the columns `AGE_DESC`, `INCOME_DESC`, `household_key`, and `HH_COMP_DESC`. Convert the appropriate columns to the category dtype.\n",
    "\n",
    "\n",
    "* Then group the transactions table by household_id, and calculate the sum of SALES VALUE by household.\n",
    "\n",
    "\n",
    "* Once you've done that, join the demographics DataFrame to the aggregated transactions table. Since we're interested in analyzing the demographic data we have, make sure not to include rows from transactions that don't match.\n",
    "\n",
    "\n",
    "* Plot the sum of sales by age_desc and income_desc (in separate charts).\n",
    "\n",
    "\n",
    "* Then, create a pivot table of the mean household sales by `AGE_DESC` and `HH_COMP_DESC`. Which of our demographics have the highest average sales?\n"
   ]
  },
  {
   "cell_type": "code",
   "execution_count": null,
   "id": "b03da735",
   "metadata": {},
   "outputs": [],
   "source": [
    "dem_cols = [\"AGE_DESC\", \"INCOME_DESC\", \"household_key\", \"HH_COMP_DESC\"]"
   ]
  },
  {
   "cell_type": "code",
   "execution_count": null,
   "id": "7635afb0",
   "metadata": {
    "scrolled": true
   },
   "outputs": [],
   "source": [
    "demographics = pd.read_csv('../project_data/hh_demographic.csv',\n",
    "                          usecols=dem_cols,\n",
    "                          dtype=dem_dtypes\n",
    "                          )"
   ]
  },
  {
   "cell_type": "code",
   "execution_count": null,
   "id": "9f1a2ee8",
   "metadata": {},
   "outputs": [],
   "source": [
    "demographics.head()"
   ]
  },
  {
   "cell_type": "code",
   "execution_count": null,
   "id": "ef63184f",
   "metadata": {},
   "outputs": [],
   "source": [
    "dem_dtypes = {\"AGE_DESC\": \"category\", \"INCOME_DESC\": \"category\", \"HH_COMP_DESC\":\"category\"}"
   ]
  },
  {
   "cell_type": "code",
   "execution_count": null,
   "id": "5a5d42c1",
   "metadata": {},
   "outputs": [],
   "source": [
    "demographics.info()"
   ]
  },
  {
   "cell_type": "code",
   "execution_count": null,
   "id": "ccd5bfe5",
   "metadata": {},
   "outputs": [],
   "source": [
    "#group the transactions table by household_key, and calculate the sum of SALES VALUE by household\n",
    "transactions.head()"
   ]
  },
  {
   "cell_type": "code",
   "execution_count": null,
   "id": "ec18a861",
   "metadata": {
    "scrolled": true
   },
   "outputs": [],
   "source": [
    "household_sales = (transactions\n",
    ".groupby(transactions[\"household_key\"])\n",
    " .agg({\"SALES_VALUE\" : \"sum\"})\n",
    ")\n",
    "household_sales"
   ]
  },
  {
   "cell_type": "code",
   "execution_count": null,
   "id": "a847e93e",
   "metadata": {},
   "outputs": [],
   "source": [
    "#join the demographics DataFrame to the aggregated transactions table. \n",
    "#Since we're interested in analyzing the demographic data we have, make sure not to include rows from transactions that don't match.\n",
    "# since I will only include the rows that have matching values, I will use inner\n",
    "\n",
    "household_sales_demo = (household_sales.merge(demographics,\n",
    "                        how = \"inner\",\n",
    "                        left_on = 'household_key',\n",
    "                        right_on = 'household_key',)\n",
    "                       )\n",
    "\n",
    "household_sales_demo"
   ]
  },
  {
   "cell_type": "code",
   "execution_count": null,
   "id": "196e806b",
   "metadata": {},
   "outputs": [],
   "source": [
    "#Plot the sum of sales by age_desc and income_desc (in separate charts)\n",
    "#by age\n",
    "plot = (household_sales_demo\n",
    " .groupby(household_sales_demo[\"AGE_DESC\"], observed=True)\n",
    " .agg({\"SALES_VALUE\":\"sum\"}).plot.bar()\n",
    ")\n",
    "#by income\n",
    "(household_sales_demo\n",
    " .groupby(household_sales_demo[\"INCOME_DESC\"], observed=True)\n",
    " .agg({\"SALES_VALUE\":\"sum\"}).sort_values(\"SALES_VALUE\", ascending=False)\n",
    " .plot.bar()\n",
    ")\n",
    "\n",
    "plt.savefig('bar_household_sales_demo.png', bbox_inches='tight', dpi=300)"
   ]
  },
  {
   "cell_type": "code",
   "execution_count": null,
   "id": "8b3545c2",
   "metadata": {
    "scrolled": true
   },
   "outputs": [],
   "source": [
    "#create a pivot table of the mean household sales by AGE_DESC and HH_COMP_DESC. \n",
    "#Which of our demographics have the highest average sales?\n",
    "\n",
    "plot = (household_sales_demo.pivot_table(\n",
    "    index=\"AGE_DESC\",\n",
    "    observed=False,\n",
    "    columns=\"HH_COMP_DESC\",\n",
    "    values=\"SALES_VALUE\",\n",
    "    aggfunc = \"mean\",\n",
    "    margins=True).style.background_gradient(cmap=\"RdYlGn\", axis=None))\n",
    "\n",
    "plot\n",
    "\n"
   ]
  },
  {
   "cell_type": "code",
   "execution_count": null,
   "id": "2edc7c14",
   "metadata": {},
   "outputs": [],
   "source": [
    "del [household_sales_demo, household_sales]"
   ]
  },
  {
   "cell_type": "markdown",
   "id": "5081f94d",
   "metadata": {},
   "source": [
    "# PRODUCT DEMOGRAPHICS\n",
    "\n",
    "* Read in the product csv file.\n",
    "\n",
    "* Only read in product_id and department from product (consider converting columns).\n",
    "\n",
    "* Join the product DataFrame to transactions and demographics tables, performing an inner join when joining both tables.\n",
    "\n",
    "* Finally, pivot the fully joined dataframe by AGE_DESC and DEPARTMENT, calculating the sum of sales. Which category does our youngest demographic perform well in?\n",
    "\n"
   ]
  },
  {
   "cell_type": "code",
   "execution_count": null,
   "id": "def3a4b1",
   "metadata": {},
   "outputs": [],
   "source": [
    "product_cols = [\"PRODUCT_ID\", \"DEPARTMENT\"]\n",
    "product_dtypes = {\"PRODUCT_ID\": \"Int32\", \"DEPARTMENT\": \"category\"}\n",
    "\n",
    "product = pd.read_csv('../project_data/product.csv',\n",
    "                     usecols=product_cols,\n",
    "                     dtype=product_dtypes\n",
    "                     )"
   ]
  },
  {
   "cell_type": "code",
   "execution_count": null,
   "id": "a498c9ab",
   "metadata": {},
   "outputs": [],
   "source": [
    "#Join the product DataFrame to transactions and demographics tables, performing an inner join when joining both tables.\n",
    "product.head()"
   ]
  },
  {
   "cell_type": "code",
   "execution_count": null,
   "id": "a314ac71",
   "metadata": {},
   "outputs": [],
   "source": [
    "transactions.head()"
   ]
  },
  {
   "cell_type": "code",
   "execution_count": null,
   "id": "65e3618f",
   "metadata": {},
   "outputs": [],
   "source": [
    "demographics.head()"
   ]
  },
  {
   "cell_type": "code",
   "execution_count": null,
   "id": "ed86759d",
   "metadata": {
    "scrolled": true
   },
   "outputs": [],
   "source": [
    "trans_demo_dept = (transactions\n",
    "                   .merge(demographics,\n",
    "                            how = \"inner\",\n",
    "                            left_on='household_key',\n",
    "                            right_on='household_key')\n",
    "                   .merge(product,\n",
    "                         how=\"inner\",\n",
    "                         left_on='PRODUCT_ID',\n",
    "                         right_on='PRODUCT_ID')\n",
    "                  )\n",
    "\n",
    "trans_demo_dept"
   ]
  },
  {
   "cell_type": "code",
   "execution_count": null,
   "id": "c3dc07e0-bb63-4a34-88a6-c4f7aca185fe",
   "metadata": {},
   "outputs": [],
   "source": [
    "#pivot the fully joined dataframe by AGE_DESC and DEPARTMENT, calculating the sum of sales. \n",
    "#Which category does our youngest demographic perform well in?\n",
    "\n",
    "(trans_demo_dept.pivot_table(\n",
    "    index=\"DEPARTMENT\",\n",
    "    observed=False,\n",
    "    columns=\"AGE_DESC\",\n",
    "    values = \"SALES_VALUE\",\n",
    "    aggfunc = \"sum\")\n",
    "    .style.background_gradient(cmap=\"RdYlGn\", axis=1)\n",
    ")\n"
   ]
  },
  {
   "cell_type": "markdown",
   "id": "c761f6ed",
   "metadata": {},
   "source": [
    "# EXPORT\n",
    "\n",
    "Finally, export your pivot table to an excel file. Make sure to provide a sheet name."
   ]
  },
  {
   "cell_type": "code",
   "execution_count": null,
   "id": "abfe3a77",
   "metadata": {},
   "outputs": [],
   "source": [
    "(trans_demo_dept.pivot_table(index=\"DEPARTMENT\",\n",
    "                            observed=False,\n",
    "                            columns=\"AGE_DESC\",\n",
    "                            values=\"SALES_VALUE\",\n",
    "                            aggfunc=\"sum\")\n",
    " .style.background_gradient(cmap=\"RdYlGn\", axis=1)\n",
    " .to_excel(\"demographic_category_sales.xlsx\", sheet_name=\"sales_pivot\")\n",
    ")"
   ]
  },
  {
   "cell_type": "code",
   "execution_count": null,
   "id": "e23b4951-b699-4457-893e-c4b500435182",
   "metadata": {},
   "outputs": [],
   "source": [
    "import os\n",
    "os.getcwd()"
   ]
  },
  {
   "cell_type": "code",
   "execution_count": null,
   "id": "8e486d54-f23f-4840-b022-69e716ba82b4",
   "metadata": {},
   "outputs": [],
   "source": []
  }
 ],
 "metadata": {
  "kernelspec": {
   "display_name": "Python [conda env:base] *",
   "language": "python",
   "name": "conda-base-py"
  },
  "language_info": {
   "codemirror_mode": {
    "name": "ipython",
    "version": 3
   },
   "file_extension": ".py",
   "mimetype": "text/x-python",
   "name": "python",
   "nbconvert_exporter": "python",
   "pygments_lexer": "ipython3",
   "version": "3.12.7"
  }
 },
 "nbformat": 4,
 "nbformat_minor": 5
}
